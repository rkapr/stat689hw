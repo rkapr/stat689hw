{
 "cells": [
  {
   "cell_type": "markdown",
   "metadata": {},
   "source": [
    "# Kapoor, Rajan -- Homework 3\n",
    "\n",
    "We study Table 13.2 on p 240 of Lange and Chapter 13 question 11 (on page 240) and Chapter 14, Example 14.10.1 on p246.\n",
    "\n",
    "The table contains counts of the number of days a given number of deaths occurred. "
   ]
  },
  {
   "cell_type": "code",
   "execution_count": 1,
   "metadata": {
    "collapsed": true
   },
   "outputs": [],
   "source": [
    "import numpy as np\n",
    "freq = np.array([162,267,271,185,111,61,27,8,3,1])"
   ]
  },
  {
   "cell_type": "code",
   "execution_count": 2,
   "metadata": {},
   "outputs": [
    {
     "data": {
      "image/png": "[encoded data removed]",
      "text/plain": [
       "<matplotlib.figure.Figure at 0x1175fff28>"
      ]
     },
     "metadata": {},
     "output_type": "display_data"
    }
   ],
   "source": [
    "%matplotlib inline\n",
    "import matplotlib.pyplot as plt\n",
    "plt.style.use('seaborn-whitegrid')\n",
    "\n",
    "## proportion of different number of deaths\n",
    "plt.plot(np.arange(freq.size), freq/np.sum(freq), 'o', color='black')\n",
    "plt.xlabel(\"Number of Deaths\")\n",
    "plt.ylabel(\"Proportion\");"
   ]
  },
  {
   "cell_type": "markdown",
   "metadata": {},
   "source": [
    "## Problem 1\n",
    "\n",
    "Confirm Lange's claim in question 11 that \"A Poisson distribution gives a poor fit to these data . . .\" by computing the MLE of the Poisson parameter $\\lambda$ (this can be done by hand using calculus) and plotting the resulting probability mass function over the observed data. They should be a bit discrepant (thus justifying the claim)."
   ]
  },
  {
   "cell_type": "markdown",
   "metadata": {},
   "source": [
    "## Solution"
   ]
  },
  {
   "cell_type": "markdown",
   "metadata": {},
   "source": [
    "##### Case 1: Poisson distribution fit\n",
    "Assuming the parameter lambda is constant, the likelihood is given by\n",
    "\n",
    "\\begin{align}\n",
    "f &= \\prod_{i=0}^{9}\\left[e^{-\\mu}\\frac{\\mu^{i}}{i!}\\right]^{n_{i}}\n",
    "\\end{align}\n",
    "\n"
   ]
  },
  {
   "cell_type": "markdown",
   "metadata": {},
   "source": [
    "Ignoring the terms independent of $\\mu$, the log likelihood is given by\n",
    "\\begin{align}\n",
    "\\log f &= \\sum_{i=0}^{9} n_i \\left(-\\mu + i\\log \\mu\\right)\n",
    "\\end{align}"
   ]
  },
  {
   "cell_type": "markdown",
   "metadata": {},
   "source": [
    "Setting \n",
    "\\begin{align}\n",
    "\\frac{\\partial \\log f}{\\partial \\mu} &= 0\n",
    "\\end{align}\n",
    "gives"
   ]
  },
  {
   "cell_type": "markdown",
   "metadata": {},
   "source": [
    "\\begin{align}\n",
    "\\mu &= \\frac{\\sum\\limits_{i=0}^{9} n_{i}}{\\sum_{i=0}^{9} i}\n",
    "\\end{align}"
   ]
  },
  {
   "cell_type": "code",
   "execution_count": 3,
   "metadata": {
    "collapsed": true
   },
   "outputs": [],
   "source": [
    "ni = freq\n",
    "i = np.arange(10)"
   ]
  },
  {
   "cell_type": "code",
   "execution_count": 4,
   "metadata": {},
   "outputs": [
    {
     "name": "stdout",
     "output_type": "stream",
     "text": [
      "24.3556\n"
     ]
    }
   ],
   "source": [
    "mu = np.sum(ni)/np.sum(i)\n",
    "print(round(mu,4))"
   ]
  },
  {
   "cell_type": "code",
   "execution_count": 5,
   "metadata": {
    "collapsed": true
   },
   "outputs": [],
   "source": [
    "import scipy.misc as smsc\n",
    "# for factorial of nd arrays"
   ]
  },
  {
   "cell_type": "code",
   "execution_count": 6,
   "metadata": {},
   "outputs": [
    {
     "name": "stdout",
     "output_type": "stream",
     "text": [
      "1.0\n"
     ]
    }
   ],
   "source": [
    "i_fac = smsc.factorial(i)\n",
    "poisd_mle = np.exp(-1/mu)*(1/mu)**i/i_fac\n",
    "print(round(np.sum(poisd_mle),4))"
   ]
  },
  {
   "cell_type": "markdown",
   "metadata": {},
   "source": [
    "##### Case 2 : Poisson Regression (aka log-linear model) fit with Newton's method  \n",
    "(Code from class notes)"
   ]
  },
  {
   "cell_type": "code",
   "execution_count": 7,
   "metadata": {
    "collapsed": true
   },
   "outputs": [],
   "source": [
    "x = i\n",
    "y = freq\n",
    "def loglike(theta1,theta2,x,y):\n",
    "    s = -np.exp(theta1 + x*theta2)\n",
    "    return np.sum(s + (theta1 + theta2*x)*y)\n",
    "\n",
    "def dloglike(theta1,theta2,x,y):\n",
    "    s = -np.exp(theta1 + x*theta2)\n",
    "    return np.array([np.sum(s + y),np.sum(x*s + x*y)])\n",
    "\n",
    "def d2loglike(theta1,theta2,x,y):\n",
    "    s = -np.exp(theta1 + x*theta2)\n",
    "    cross = np.sum(s*x)\n",
    "    return np.array([np.sum(s),cross,cross,np.sum(s*np.power(x,2))]).reshape(2,2)"
   ]
  },
  {
   "cell_type": "code",
   "execution_count": 8,
   "metadata": {},
   "outputs": [
    {
     "name": "stdout",
     "output_type": "stream",
     "text": [
      "theta1: 0 theta2: 0\n",
      "halved\n",
      "halved\n",
      "halved\n",
      "halved\n",
      "halved\n",
      "theta1: [ 7.77102273] theta2: [-0.97272727]\n",
      "theta1: [ 6.77999622] theta2: [-0.51401463]\n",
      "theta1: [ 6.11509309] theta2: [-0.39620373]\n",
      "theta1: [ 5.81996754] theta2: [-0.3411366]\n",
      "theta1: [ 5.7762939] theta2: [-0.33364153]\n",
      "theta1: [ 5.77545818] theta2: [-0.33350172]\n",
      "theta1: [ 5.77545788] theta2: [-0.33350167]\n",
      "theta1: [ 5.77545788] theta2: [-0.33350167]\n",
      "theta1: [ 5.77545788] theta2: [-0.33350167]\n"
     ]
    }
   ],
   "source": [
    "theta1c = 0\n",
    "theta2c = 0\n",
    "Niter = 10\n",
    "for jj in np.arange(Niter):\n",
    "    print(\"theta1: \" + str(theta1c) + \" theta2: \" + str(theta2c))\n",
    "    g = dloglike(theta1c,theta2c,x,y).reshape((2,1))\n",
    "    h = d2loglike(theta1c,theta2c,x,y)\n",
    "    a,b = np.matmul(np.linalg.inv(h),g)\n",
    "    c = 1.0\n",
    "    half = True\n",
    "    while half:\n",
    "        t1 = theta1c - c*a\n",
    "        t2 = theta2c - c*b\n",
    "        if loglike(t1,t2,x,y) < loglike(theta1c,theta2c,x,y):\n",
    "            print(\"halved\")\n",
    "            c = c / 2.0\n",
    "        else:\n",
    "            theta1c = t1\n",
    "            theta2c = t2\n",
    "            half = False"
   ]
  },
  {
   "cell_type": "code",
   "execution_count": 9,
   "metadata": {},
   "outputs": [
    {
     "data": {
      "image/png": "[encoded data removed]",
      "text/plain": [
       "<matplotlib.figure.Figure at 0x11c4a2dd8>"
      ]
     },
     "metadata": {},
     "output_type": "display_data"
    }
   ],
   "source": [
    "loglin_mle = np.exp(theta1c+theta2c*x)\n",
    "loglin_mle = loglin_mle/sum(loglin_mle)\n",
    "\n",
    "plt.plot(np.arange(freq.size), freq/np.sum(freq), 'o', color='black', label = 'Original Data')\n",
    "plt.plot(i, poisd_mle,'x--', color='black',label='Poisson Distribution')\n",
    "plt.plot(i, loglin_mle,'*-', color='black',label='Poisson Regression')\n",
    "plt.legend()\n",
    "\n",
    "plt.xlabel(\"Number of Deaths\")\n",
    "plt.ylabel(\"Proportion\");"
   ]
  },
  {
   "cell_type": "markdown",
   "metadata": {},
   "source": [
    "## Problem 2\n",
    "\n",
    "Fit the $\\alpha$, $\\mu_1$ and $\\mu_2$ parameters for the mixture of two Poissons model proposed in Question 11. You must write your own fitting code (cannot use `scipy optimize` or R `optim`). You can write any sort of optimizer you like such as gradient ascent, Newton's method (or any of its varients), or an EM approach. Discuss how you select starting parameters and monitor convergence. You can confirm your results by also using Python or R built in optimizers."
   ]
  },
  {
   "cell_type": "markdown",
   "metadata": {},
   "source": [
    "## Solution\n",
    "### Gradient Descent:"
   ]
  },
  {
   "cell_type": "code",
   "execution_count": 10,
   "metadata": {},
   "outputs": [
    {
     "name": "stdout",
     "output_type": "stream",
     "text": [
      "Once deleted, variables cannot be recovered. Proceed (y/[n])? y\n"
     ]
    }
   ],
   "source": [
    "%reset"
   ]
  },
  {
   "cell_type": "code",
   "execution_count": 11,
   "metadata": {
    "collapsed": true
   },
   "outputs": [],
   "source": [
    "import numpy as np\n",
    "import scipy.misc as smsc\n",
    "# scipy for factorial of nd array\n",
    "# the one in numpy cannot calculate factorial for an array\n",
    "# np.math.factorial(deaths) gives TypeError\n",
    "# import timeit\n",
    "import time"
   ]
  },
  {
   "cell_type": "code",
   "execution_count": 12,
   "metadata": {},
   "outputs": [
    {
     "data": {
      "text/plain": [
       "array([0, 1, 2, 3, 4, 5, 6, 7, 8, 9])"
      ]
     },
     "execution_count": 12,
     "metadata": {},
     "output_type": "execute_result"
    }
   ],
   "source": [
    "deaths = np.arange(10)\n",
    "deaths"
   ]
  },
  {
   "cell_type": "code",
   "execution_count": 13,
   "metadata": {
    "collapsed": true
   },
   "outputs": [],
   "source": [
    "freq = np.array([162, 267, 271, 185, 111, 61, 27, 8, 3, 1])\n",
    "i = deaths\n",
    "ni = freq"
   ]
  },
  {
   "cell_type": "code",
   "execution_count": 14,
   "metadata": {},
   "outputs": [
    {
     "data": {
      "text/plain": [
       "{'divide': 'warn', 'invalid': 'warn', 'over': 'warn', 'under': 'ignore'}"
      ]
     },
     "execution_count": 14,
     "metadata": {},
     "output_type": "execute_result"
    }
   ],
   "source": [
    "np.seterr(all='warn')"
   ]
  },
  {
   "cell_type": "markdown",
   "metadata": {},
   "source": [
    "The likelihood function for mixture of two poissons is\n",
    "\n",
    "\\begin{align}\n",
    "h &=\\prod_{i=0}^{9}\\left[\\alpha e^{-\\mu_1} \\frac{\\mu_{1}^{i}}{i!} + (1-\\alpha) e^{-\\mu_2} \\frac{\\mu_{2}^{i}}{i!}\\right]^{n_i} &= \\prod_{i=0}^{9}\\left[\\alpha u_i + (1-\\alpha) v_i\\right]^{n_i} &= \\prod_{i=0}^{9}g_i^{n_i}\n",
    "\\end{align}"
   ]
  },
  {
   "cell_type": "code",
   "execution_count": 15,
   "metadata": {
    "collapsed": true
   },
   "outputs": [],
   "source": [
    "def u(mu, i, i_fac):\n",
    "    return np.exp(-mu)*np.power(mu,i)/i_fac\n",
    "\n",
    "def g(alpha, ui, vi):\n",
    "    return alpha*ui + (1-alpha)*vi"
   ]
  },
  {
   "cell_type": "markdown",
   "metadata": {},
   "source": [
    "The log-likelihood function $f$ is given by\n",
    "\\begin{align}\n",
    "f = \\log h = \\sum_{i=0}^{9} n_i \\log g_i\n",
    "\\end{align}"
   ]
  },
  {
   "cell_type": "code",
   "execution_count": 16,
   "metadata": {
    "collapsed": true
   },
   "outputs": [],
   "source": [
    "def f(ni, gi):\n",
    "    return np.sum(ni*np.log(gi))"
   ]
  },
  {
   "cell_type": "markdown",
   "metadata": {},
   "source": [
    "The partial derivative wrt $\\alpha$ is given by\n",
    "\\begin{align}\n",
    "\\frac{\\partial f}{\\partial \\alpha} &= \\sum_{i=0}^{9} \\frac{n_i}{g_i} (u_i-v_i)\n",
    "\\end{align}"
   ]
  },
  {
   "cell_type": "code",
   "execution_count": 17,
   "metadata": {
    "collapsed": true
   },
   "outputs": [],
   "source": [
    "def df_alpha(ni, gi, ui, vi):\n",
    "    return np.sum(np.divide(ni,gi)*(ui-vi)) \n",
    "    # broadcasting for same sized arrays is elementwise numpy operation"
   ]
  },
  {
   "cell_type": "markdown",
   "metadata": {},
   "source": [
    "The partial wrt $\\mu_1$ is given by\n",
    "\n",
    "\\begin{align}\n",
    "\\frac{\\partial f}{\\partial \\mu_1} &= \\sum_{i=0}^{9} \\frac{n_i}{g_i} \\alpha u_i\\left(\\frac{i}{\\mu_1}-1\\right)\n",
    "\\end{align}"
   ]
  },
  {
   "cell_type": "code",
   "execution_count": 18,
   "metadata": {
    "collapsed": true
   },
   "outputs": [],
   "source": [
    "def df_mu1(alpha, ni, gi, ui, i, mu1):\n",
    "    return alpha*np.sum(np.divide(ni,gi)*ui*(i/mu1 - 1))"
   ]
  },
  {
   "cell_type": "markdown",
   "metadata": {},
   "source": [
    "The partial wrt $\\mu_2$ is given by\n",
    "\n",
    "\\begin{align}\n",
    "\\frac{\\partial f}{\\partial \\mu_2} &= \\sum_{i=0}^{9} \\frac{n_i}{g_i} (1-\\alpha) v_i\\left(\\frac{i}{\\mu_2}-1\\right)\n",
    "\\end{align}"
   ]
  },
  {
   "cell_type": "code",
   "execution_count": 19,
   "metadata": {
    "collapsed": true
   },
   "outputs": [],
   "source": [
    "def df_mu2(alpha, ni, gi, vi, i, mu2):\n",
    "    return (1-alpha)*np.sum(np.divide(ni,gi)*vi*(i/mu2 - 1))"
   ]
  },
  {
   "cell_type": "markdown",
   "metadata": {},
   "source": [
    "Define function grad_ascent_update with following constraints on step size:\n",
    "\n",
    "\\begin{align}\n",
    "f(x_{n+1}) > f(x_{n})\\\\\n",
    "0 < \\alpha < 1 \\\\\n",
    "\\mu_1 ,\\mu_2 >0 \\\\\n",
    "\\end{align}"
   ]
  },
  {
   "cell_type": "code",
   "execution_count": 20,
   "metadata": {
    "collapsed": true
   },
   "outputs": [],
   "source": [
    "def grad_ascent_update(alpha0,mu10,mu20,i,i_fac,rate=1.0):\n",
    "    \n",
    "    ui0 = u(mu10, i, i_fac)\n",
    "    vi0 = u(mu20, i, i_fac)\n",
    "    gi0 = g(alpha0, ui0, vi0)\n",
    "    \n",
    "    alpha1 = alpha0 + rate*df_alpha(ni, gi0, ui0, vi0)   \n",
    "    mu11 = mu10 + rate*df_mu1(alpha0, ni, gi0, ui0, i, mu10)\n",
    "    mu21 = mu20 + rate*df_mu2(alpha0, ni, gi0, vi0, i, mu20)\n",
    "    \n",
    "    ui1 = u(mu11, i, i_fac)\n",
    "    vi1 = u(mu21, i, i_fac)\n",
    "    gi1 = g(alpha1, ui1, vi1)\n",
    "    condition = True\n",
    "    \n",
    "    newlik = f(ni, gi1)\n",
    "    if np.isnan(newlik):\n",
    "        newlik = -np.inf\n",
    "            \n",
    "    while newlik < f(ni, gi0) or condition:\n",
    "        rate = rate/2.0\n",
    "\n",
    "        alpha1 = alpha0 + rate*df_alpha(ni, gi0, ui0, vi0)   \n",
    "        mu11 = mu10 + rate*df_mu1(alpha0, ni, gi0, ui0, i, mu10)\n",
    "        mu21 = mu20 + rate*df_mu2(alpha0, ni, gi0, vi0, i, mu20)\n",
    "        \n",
    "        ui1 = u(mu11, i, i_fac)\n",
    "        vi1 = u(mu21, i, i_fac)\n",
    "        gi1 = g(alpha1, ui1, vi1)\n",
    "        \n",
    "        newlik = f(ni, gi1)\n",
    "        if np.isnan(newlik):\n",
    "            newlik = -np.inf\n",
    "        \n",
    "        condition = alpha1 >= 1 or alpha1 <= 0 or mu11 <= 0 or mu21 <=0\n",
    "        \n",
    "    return [alpha1,mu11,mu21]"
   ]
  },
  {
   "cell_type": "code",
   "execution_count": 26,
   "metadata": {},
   "outputs": [
    {
     "name": "stderr",
     "output_type": "stream",
     "text": [
      "/anaconda/lib/python3.6/site-packages/ipykernel_launcher.py:2: RuntimeWarning: underflow encountered in exp\n",
      "  \n",
      "/anaconda/lib/python3.6/site-packages/ipykernel_launcher.py:2: RuntimeWarning: divide by zero encountered in log\n",
      "  \n",
      "/anaconda/lib/python3.6/site-packages/ipykernel_launcher.py:2: RuntimeWarning: invalid value encountered in log\n",
      "  \n",
      "/anaconda/lib/python3.6/site-packages/ipykernel_launcher.py:2: RuntimeWarning: overflow encountered in exp\n",
      "  \n"
     ]
    },
    {
     "name": "stdout",
     "output_type": "stream",
     "text": [
      "Solution converged in 404 iterations. Total time taken is 0.4475s.\n",
      "Result:\n",
      "alpha = 0.3599, mu1 = 1.2561, mu2 = 2.6634\n"
     ]
    }
   ],
   "source": [
    "start_time = time.time()\n",
    "\n",
    "alpha0,mu10,mu20 = 0.3,1.0,2.5\n",
    "condition = True\n",
    "loops = 1\n",
    "max_iter = 1000\n",
    "tolerance = 0.000001\n",
    "val = [(alpha0,mu10,mu20)]\n",
    "i_fac = smsc.factorial(i)\n",
    "\n",
    "while condition and loops<max_iter: \n",
    "    [alpha1,mu11,mu21] = grad_ascent_update(alpha0,mu10,mu20,i,i_fac,rate=125.0)\n",
    "    loops += 1\n",
    "    diff = np.array([alpha1,mu11,mu21]) - np.array([alpha0,mu10,mu20])\n",
    "    condition = np.sum(np.abs(diff)) >= tolerance\n",
    "    [alpha0,mu10,mu20] = [alpha1,mu11,mu21]\n",
    "    # print(f'alpha = {round(alpha0,4)}, mu1 = {round(mu10,4)}, mu2 = {round(mu20,4)}')\n",
    "    val.append((alpha0,mu10,mu20))\n",
    "\n",
    "end_time = time.time()\n",
    "\n",
    "if loops == max_iter:\n",
    "    print('Solution failed to converge. Try increasing rate or max iterations!')\n",
    "else:\n",
    "    print(f'Solution converged in {loops} iterations. Total time taken is {end_time-start_time:.4f}s.')\n",
    "\n",
    "print('Result:')\n",
    "print(f'alpha = {alpha0:.4f}, mu1 = {mu10:.4f}, mu2 = {mu20:.4f}')"
   ]
  },
  {
   "cell_type": "markdown",
   "metadata": {},
   "source": [
    "### Newton's Method:"
   ]
  },
  {
   "cell_type": "markdown",
   "metadata": {},
   "source": [
    "The algebra for finding the Hessian seemed quite intensive for hand calculation. Here sympy package is used for calculation of the gradient and the Hessian functions. Define the symbols and expressions:"
   ]
  },
  {
   "cell_type": "code",
   "execution_count": 27,
   "metadata": {},
   "outputs": [
    {
     "data": {
      "text/plain": [
       "n_i*log(alpha*mu1**i*exp(-mu1)/factorial(i) + mu2**i*(-alpha + 1)*exp(-mu2)/factorial(i))"
      ]
     },
     "execution_count": 27,
     "metadata": {},
     "output_type": "execute_result"
    }
   ],
   "source": [
    "import sympy as sp\n",
    "alpha, mu1, mu2, i, i_fac, ni = sp.symbols('alpha mu1 mu2 i i! n_i',real=True)  # define mathematical symbols\n",
    "# symbolic expressions \n",
    "i_fac = sp.factorial(i)\n",
    "u_expr = sp.exp(-mu1)*mu1**i/i_fac\n",
    "v_expr = sp.exp(-mu2)*mu2**i/i_fac\n",
    "g_expr = alpha*u_expr + (1-alpha)*v_expr\n",
    "f_expr = ni*sp.log(g_expr)\n",
    "f_expr"
   ]
  },
  {
   "cell_type": "markdown",
   "metadata": {},
   "source": [
    "For pretty printing:"
   ]
  },
  {
   "cell_type": "code",
   "execution_count": 28,
   "metadata": {
    "collapsed": true
   },
   "outputs": [],
   "source": [
    "from sympy import init_printing\n",
    "init_printing(use_latex='mathjax',fontsize = '10pt')"
   ]
  },
  {
   "cell_type": "code",
   "execution_count": 29,
   "metadata": {},
   "outputs": [
    {
     "data": {
      "text/latex": [
       "$$n_{i} \\log{\\left (\\frac{\\alpha \\mu_{1}^{i}}{i!} e^{- \\mu_{1}} + \\frac{\\mu_{2}^{i}}{i!} \\left(- \\alpha + 1\\right) e^{- \\mu_{2}} \\right )}$$"
      ],
      "text/plain": [
       "      ⎛    i  -μ₁     i           -μ₂⎞\n",
       "      ⎜α⋅μ₁ ⋅ℯ      μ₂ ⋅(-α + 1)⋅ℯ   ⎟\n",
       "nᵢ⋅log⎜────────── + ─────────────────⎟\n",
       "      ⎝    i!               i!       ⎠"
      ]
     },
     "execution_count": 29,
     "metadata": {},
     "output_type": "execute_result"
    }
   ],
   "source": [
    "f_expr"
   ]
  },
  {
   "cell_type": "markdown",
   "metadata": {},
   "source": [
    "Find expressions for summands of the gradient and the hessian:"
   ]
  },
  {
   "cell_type": "code",
   "execution_count": 30,
   "metadata": {
    "collapsed": true
   },
   "outputs": [],
   "source": [
    "from sympy.tensor.array import derive_by_array"
   ]
  },
  {
   "cell_type": "code",
   "execution_count": 31,
   "metadata": {},
   "outputs": [
    {
     "data": {
      "text/latex": [
       "$$\\left[\\begin{matrix}\\frac{n_{i} \\left(\\frac{\\mu_{1}^{i}}{i!} e^{- \\mu_{1}} - \\frac{\\mu_{2}^{i}}{i!} e^{- \\mu_{2}}\\right)}{\\frac{\\alpha \\mu_{1}^{i}}{i!} e^{- \\mu_{1}} + \\frac{\\mu_{2}^{i}}{i!} \\left(- \\alpha + 1\\right) e^{- \\mu_{2}}} & \\frac{n_{i} \\left(\\frac{\\alpha i \\mu_{1}^{i}}{\\mu_{1} i!} e^{- \\mu_{1}} - \\frac{\\alpha \\mu_{1}^{i}}{i!} e^{- \\mu_{1}}\\right)}{\\frac{\\alpha \\mu_{1}^{i}}{i!} e^{- \\mu_{1}} + \\frac{\\mu_{2}^{i}}{i!} \\left(- \\alpha + 1\\right) e^{- \\mu_{2}}} & \\frac{n_{i} \\left(\\frac{i \\mu_{2}^{i} e^{- \\mu_{2}}}{\\mu_{2} i!} \\left(- \\alpha + 1\\right) - \\frac{\\mu_{2}^{i}}{i!} \\left(- \\alpha + 1\\right) e^{- \\mu_{2}}\\right)}{\\frac{\\alpha \\mu_{1}^{i}}{i!} e^{- \\mu_{1}} + \\frac{\\mu_{2}^{i}}{i!} \\left(- \\alpha + 1\\right) e^{- \\mu_{2}}}\\end{matrix}\\right]$$"
      ],
      "text/plain": [
       "⎡      ⎛  i  -μ₁     i  -μ₂⎞        ⎛      i  -μ₁       i  -μ₁⎞     ⎛    i    \n",
       "⎢      ⎜μ₁ ⋅ℯ      μ₂ ⋅ℯ   ⎟        ⎜α⋅i⋅μ₁ ⋅ℯ      α⋅μ₁ ⋅ℯ   ⎟     ⎜i⋅μ₂ ⋅(-α\n",
       "⎢   nᵢ⋅⎜──────── - ────────⎟     nᵢ⋅⎜──────────── - ──────────⎟  nᵢ⋅⎜─────────\n",
       "⎢      ⎝   i!         i!   ⎠        ⎝   μ₁⋅i!           i!    ⎠     ⎝       μ₂\n",
       "⎢──────────────────────────────  ──────────────────────────────  ─────────────\n",
       "⎢    i  -μ₁     i           -μ₂      i  -μ₁     i           -μ₂             i \n",
       "⎢α⋅μ₁ ⋅ℯ      μ₂ ⋅(-α + 1)⋅ℯ     α⋅μ₁ ⋅ℯ      μ₂ ⋅(-α + 1)⋅ℯ            α⋅μ₁ ⋅\n",
       "⎢────────── + ─────────────────  ────────── + ─────────────────         ──────\n",
       "⎣    i!               i!             i!               i!                    i!\n",
       "\n",
       "       -μ₂     i           -μ₂⎞⎤\n",
       " + 1)⋅ℯ      μ₂ ⋅(-α + 1)⋅ℯ   ⎟⎥\n",
       "────────── - ─────────────────⎟⎥\n",
       "⋅i!                  i!       ⎠⎥\n",
       "───────────────────────────────⎥\n",
       " -μ₁     i           -μ₂       ⎥\n",
       "ℯ      μ₂ ⋅(-α + 1)⋅ℯ          ⎥\n",
       "──── + ─────────────────       ⎥\n",
       "               i!              ⎦"
      ]
     },
     "execution_count": 31,
     "metadata": {},
     "output_type": "execute_result"
    }
   ],
   "source": [
    "gradf_expr = derive_by_array(f_expr, (alpha, mu1, mu2))\n",
    "gradf_expr"
   ]
  },
  {
   "cell_type": "markdown",
   "metadata": {},
   "source": [
    "Increase size by right click -> Math Settings -> Scale all Math : 150%. \n",
    "\n",
    "Clearly the above expression is same as the summand of the gradient calculated by hand for Gradient Descent above (note that the denominator is gi)."
   ]
  },
  {
   "cell_type": "code",
   "execution_count": 32,
   "metadata": {
    "collapsed": true
   },
   "outputs": [],
   "source": [
    "hessianf_expr = derive_by_array(gradf_expr, (alpha, mu1, mu2))"
   ]
  },
  {
   "cell_type": "markdown",
   "metadata": {},
   "source": [
    "The summands of\n",
    "\n",
    "$$\\left[\\frac{\\partial^{2} f}{\\partial \\alpha^{2}}, \\frac{\\partial^{2} f}{\\partial \\mu_1 \\partial \\alpha}, \\frac{\\partial^{2} f}{\\partial \\mu_2 \\partial \\alpha}\\right] $$\n",
    "\n",
    "are given by the first column of the hessian matrix"
   ]
  },
  {
   "cell_type": "code",
   "execution_count": 33,
   "metadata": {},
   "outputs": [
    {
     "data": {
      "text/latex": [
       "$$\\left ( \\frac{n_{i} \\left(- \\frac{\\mu_{1}^{i}}{i!} e^{- \\mu_{1}} + \\frac{\\mu_{2}^{i}}{i!} e^{- \\mu_{2}}\\right) \\left(\\frac{\\mu_{1}^{i}}{i!} e^{- \\mu_{1}} - \\frac{\\mu_{2}^{i}}{i!} e^{- \\mu_{2}}\\right)}{\\left(\\frac{\\alpha \\mu_{1}^{i}}{i!} e^{- \\mu_{1}} + \\frac{\\mu_{2}^{i}}{i!} \\left(- \\alpha + 1\\right) e^{- \\mu_{2}}\\right)^{2}}, \\quad \\frac{n_{i} \\left(\\frac{\\mu_{1}^{i}}{i!} e^{- \\mu_{1}} - \\frac{\\mu_{2}^{i}}{i!} e^{- \\mu_{2}}\\right) \\left(- \\frac{\\alpha i \\mu_{1}^{i}}{\\mu_{1} i!} e^{- \\mu_{1}} + \\frac{\\alpha \\mu_{1}^{i}}{i!} e^{- \\mu_{1}}\\right)}{\\left(\\frac{\\alpha \\mu_{1}^{i}}{i!} e^{- \\mu_{1}} + \\frac{\\mu_{2}^{i}}{i!} \\left(- \\alpha + 1\\right) e^{- \\mu_{2}}\\right)^{2}} + \\frac{n_{i} \\left(\\frac{i \\mu_{1}^{i} e^{- \\mu_{1}}}{\\mu_{1} i!} - \\frac{\\mu_{1}^{i}}{i!} e^{- \\mu_{1}}\\right)}{\\frac{\\alpha \\mu_{1}^{i}}{i!} e^{- \\mu_{1}} + \\frac{\\mu_{2}^{i}}{i!} \\left(- \\alpha + 1\\right) e^{- \\mu_{2}}}, \\quad \\frac{n_{i}}{\\left(\\frac{\\alpha \\mu_{1}^{i}}{i!} e^{- \\mu_{1}} + \\frac{\\mu_{2}^{i}}{i!} \\left(- \\alpha + 1\\right) e^{- \\mu_{2}}\\right)^{2}} \\left(\\frac{\\mu_{1}^{i}}{i!} e^{- \\mu_{1}} - \\frac{\\mu_{2}^{i}}{i!} e^{- \\mu_{2}}\\right) \\left(- \\frac{i \\mu_{2}^{i} e^{- \\mu_{2}}}{\\mu_{2} i!} \\left(- \\alpha + 1\\right) + \\frac{\\mu_{2}^{i}}{i!} \\left(- \\alpha + 1\\right) e^{- \\mu_{2}}\\right) + \\frac{n_{i} \\left(- \\frac{i \\mu_{2}^{i} e^{- \\mu_{2}}}{\\mu_{2} i!} + \\frac{\\mu_{2}^{i}}{i!} e^{- \\mu_{2}}\\right)}{\\frac{\\alpha \\mu_{1}^{i}}{i!} e^{- \\mu_{1}} + \\frac{\\mu_{2}^{i}}{i!} \\left(- \\alpha + 1\\right) e^{- \\mu_{2}}}\\right )$$"
      ],
      "text/plain": [
       "⎛   ⎛    i  -μ₁     i  -μ₂⎞ ⎛  i  -μ₁     i  -μ₂⎞     ⎛  i  -μ₁     i  -μ₂⎞ ⎛ \n",
       "⎜   ⎜  μ₁ ⋅ℯ      μ₂ ⋅ℯ   ⎟ ⎜μ₁ ⋅ℯ      μ₂ ⋅ℯ   ⎟     ⎜μ₁ ⋅ℯ      μ₂ ⋅ℯ   ⎟ ⎜ \n",
       "⎜nᵢ⋅⎜- ──────── + ────────⎟⋅⎜──────── - ────────⎟  nᵢ⋅⎜──────── - ────────⎟⋅⎜-\n",
       "⎜   ⎝     i!         i!   ⎠ ⎝   i!         i!   ⎠     ⎝   i!         i!   ⎠ ⎝ \n",
       "⎜────────────────────────────────────────────────, ───────────────────────────\n",
       "⎜                                       2                                     \n",
       "⎜       ⎛    i  -μ₁     i           -μ₂⎞                     ⎛    i  -μ₁     i\n",
       "⎜       ⎜α⋅μ₁ ⋅ℯ      μ₂ ⋅(-α + 1)⋅ℯ   ⎟                     ⎜α⋅μ₁ ⋅ℯ      μ₂ \n",
       "⎜       ⎜────────── + ─────────────────⎟                     ⎜────────── + ───\n",
       "⎝       ⎝    i!               i!       ⎠                     ⎝    i!          \n",
       "\n",
       "       i  -μ₁       i  -μ₁⎞        ⎛    i  -μ₁     i  -μ₁⎞       ⎛  i  -μ₁    \n",
       " α⋅i⋅μ₁ ⋅ℯ      α⋅μ₁ ⋅ℯ   ⎟        ⎜i⋅μ₁ ⋅ℯ      μ₁ ⋅ℯ   ⎟       ⎜μ₁ ⋅ℯ      μ\n",
       " ──────────── + ──────────⎟     nᵢ⋅⎜────────── - ────────⎟    nᵢ⋅⎜──────── - ─\n",
       "    μ₁⋅i!           i!    ⎠        ⎝  μ₁⋅i!         i!   ⎠       ⎝   i!       \n",
       "─────────────────────────── + ──────────────────────────────, ────────────────\n",
       "               2                  i  -μ₁     i           -μ₂                  \n",
       "           -μ₂⎞               α⋅μ₁ ⋅ℯ      μ₂ ⋅(-α + 1)⋅ℯ                     \n",
       "⋅(-α + 1)⋅ℯ   ⎟               ────────── + ─────────────────                  \n",
       "──────────────⎟                   i!               i!                         \n",
       "     i!       ⎠                                                               \n",
       "\n",
       " i  -μ₂⎞ ⎛      i           -μ₂     i           -μ₂⎞       ⎛      i  -μ₂     i\n",
       "₂ ⋅ℯ   ⎟ ⎜  i⋅μ₂ ⋅(-α + 1)⋅ℯ      μ₂ ⋅(-α + 1)⋅ℯ   ⎟       ⎜  i⋅μ₂ ⋅ℯ      μ₂ \n",
       "───────⎟⋅⎜- ─────────────────── + ─────────────────⎟    nᵢ⋅⎜- ────────── + ───\n",
       "  i!   ⎠ ⎝         μ₂⋅i!                  i!       ⎠       ⎝    μ₂⋅i!         \n",
       "──────────────────────────────────────────────────── + ───────────────────────\n",
       "                                 2                         i  -μ₁     i       \n",
       " ⎛    i  -μ₁     i           -μ₂⎞                      α⋅μ₁ ⋅ℯ      μ₂ ⋅(-α + \n",
       " ⎜α⋅μ₁ ⋅ℯ      μ₂ ⋅(-α + 1)⋅ℯ   ⎟                      ────────── + ──────────\n",
       " ⎜────────── + ─────────────────⎟                          i!               i!\n",
       " ⎝    i!               i!       ⎠                                             \n",
       "\n",
       "  -μ₂⎞ ⎞\n",
       "⋅ℯ   ⎟ ⎟\n",
       "─────⎟ ⎟\n",
       "i!   ⎠ ⎟\n",
       "───────⎟\n",
       "    -μ₂⎟\n",
       "1)⋅ℯ   ⎟\n",
       "───────⎟\n",
       "       ⎟\n",
       "       ⎠"
      ]
     },
     "execution_count": 33,
     "metadata": {},
     "output_type": "execute_result"
    }
   ],
   "source": [
    "hessianf_expr[0],hessianf_expr[3],hessianf_expr[6]"
   ]
  },
  {
   "cell_type": "markdown",
   "metadata": {},
   "source": [
    "which can be simplified for 'hard-coding' to:"
   ]
  },
  {
   "cell_type": "code",
   "execution_count": 34,
   "metadata": {},
   "outputs": [
    {
     "data": {
      "text/latex": [
       "$$\\left [ - \\frac{n_{i} \\left(\\mu_{1}^{i} e^{\\mu_{2}} - \\mu_{2}^{i} e^{\\mu_{1}}\\right)^{2}}{\\left(\\alpha \\mu_{1}^{i} e^{\\mu_{2}} - \\mu_{2}^{i} \\left(\\alpha - 1\\right) e^{\\mu_{1}}\\right)^{2}}, \\quad \\frac{n_{i} e^{\\mu_{2}}}{\\mu_{1} \\left(\\alpha \\mu_{1}^{i} e^{\\mu_{2}} - \\mu_{2}^{i} \\left(\\alpha - 1\\right) e^{\\mu_{1}}\\right)^{2}} \\left(i \\mu_{1}^{i} - \\mu_{1}^{i + 1}\\right) \\left(\\alpha \\mu_{1}^{i} e^{\\mu_{2}} - \\alpha \\left(\\mu_{1}^{i} e^{\\mu_{2}} - \\mu_{2}^{i} e^{\\mu_{1}}\\right) - \\mu_{2}^{i} \\left(\\alpha - 1\\right) e^{\\mu_{1}}\\right), \\quad \\frac{n_{i} e^{\\mu_{1}}}{\\mu_{2} \\left(\\alpha \\mu_{1}^{i} e^{\\mu_{2}} - \\mu_{2}^{i} \\left(\\alpha - 1\\right) e^{\\mu_{1}}\\right)^{2}} \\left(i \\mu_{2}^{i} - \\mu_{2}^{i + 1}\\right) \\left(- \\alpha \\mu_{1}^{i} e^{\\mu_{2}} + \\mu_{2}^{i} \\left(\\alpha - 1\\right) e^{\\mu_{1}} + \\left(\\alpha - 1\\right) \\left(\\mu_{1}^{i} e^{\\mu_{2}} - \\mu_{2}^{i} e^{\\mu_{1}}\\right)\\right)\\right ]$$"
      ],
      "text/plain": [
       "⎡                         2                                                   \n",
       "⎢      ⎛  i  μ₂     i  μ₁⎞          ⎛    i     i + 1⎞ ⎛    i  μ₂     ⎛  i  μ₂ \n",
       "⎢  -nᵢ⋅⎝μ₁ ⋅ℯ   - μ₂ ⋅ℯ  ⎠       nᵢ⋅⎝i⋅μ₁  - μ₁     ⎠⋅⎝α⋅μ₁ ⋅ℯ   - α⋅⎝μ₁ ⋅ℯ   \n",
       "⎢──────────────────────────────, ─────────────────────────────────────────────\n",
       "⎢                             2                                               \n",
       "⎢⎛    i  μ₂     i          μ₁⎞                            ⎛    i  μ₂     i    \n",
       "⎣⎝α⋅μ₁ ⋅ℯ   - μ₂ ⋅(α - 1)⋅ℯ  ⎠                         μ₁⋅⎝α⋅μ₁ ⋅ℯ   - μ₂ ⋅(α \n",
       "\n",
       "                                                                              \n",
       "    i  μ₁⎞     i          μ₁⎞  μ₂     ⎛    i     i + 1⎞ ⎛      i  μ₂     i    \n",
       "- μ₂ ⋅ℯ  ⎠ - μ₂ ⋅(α - 1)⋅ℯ  ⎠⋅ℯ    nᵢ⋅⎝i⋅μ₂  - μ₂     ⎠⋅⎝- α⋅μ₁ ⋅ℯ   + μ₂ ⋅(α \n",
       "─────────────────────────────────, ───────────────────────────────────────────\n",
       "         2                                                                    \n",
       "      μ₁⎞                                                       ⎛    i  μ₂    \n",
       "- 1)⋅ℯ  ⎠                                                    μ₂⋅⎝α⋅μ₁ ⋅ℯ   - μ\n",
       "\n",
       "                                           ⎤\n",
       "      μ₁           ⎛  i  μ₂     i  μ₁⎞⎞  μ₁⎥\n",
       "- 1)⋅ℯ   + (α - 1)⋅⎝μ₁ ⋅ℯ   - μ₂ ⋅ℯ  ⎠⎠⋅ℯ  ⎥\n",
       "───────────────────────────────────────────⎥\n",
       "               2                           ⎥\n",
       " i          μ₁⎞                            ⎥\n",
       "₂ ⋅(α - 1)⋅ℯ  ⎠                            ⎦"
      ]
     },
     "execution_count": 34,
     "metadata": {},
     "output_type": "execute_result"
    }
   ],
   "source": [
    "[sp.simplify(hessianf_expr[0]),sp.simplify(hessianf_expr[3]),sp.simplify(hessianf_expr[6])]"
   ]
  },
  {
   "cell_type": "markdown",
   "metadata": {},
   "source": [
    "'Hard coding' even this expression is considerable effort and prone to errors. Instead the sympy expressions for  the gradient and hessian as sums functions of only $\\alpha$, $\\mu_1$ and $\\mu_2$ are calculated and converted to numpy functions.\n",
    "\n",
    "Code from: https://stackoverflow.com/questions/26402387/sympy-summation-with-indexed-variable"
   ]
  },
  {
   "cell_type": "code",
   "execution_count": 35,
   "metadata": {},
   "outputs": [
    {
     "data": {
      "text/latex": [
       "$$x_{0} + x_{1} + x_{2} + x_{3} + x_{4} + x_{5} + x_{6} + x_{7} + x_{8} + x_{9}$$"
      ],
      "text/plain": [
       "x[0] + x[1] + x[2] + x[3] + x[4] + x[5] + x[6] + x[7] + x[8] + x[9]"
      ]
     },
     "execution_count": 35,
     "metadata": {},
     "output_type": "execute_result"
    }
   ],
   "source": [
    "s = sp.Sum(sp.Indexed('x',i),(i,0,9))\n",
    "s.doit()"
   ]
  },
  {
   "cell_type": "code",
   "execution_count": 36,
   "metadata": {},
   "outputs": [
    {
     "data": {
      "text/latex": [
       "$$\\left [ x_{0}, \\quad x_{1}, \\quad x_{2}, \\quad x_{3}, \\quad x_{4}, \\quad x_{5}, \\quad x_{6}, \\quad x_{7}, \\quad x_{8}, \\quad x_{9}\\right ]$$"
      ],
      "text/plain": [
       "[x[0], x[1], x[2], x[3], x[4], x[5], x[6], x[7], x[8], x[9]]"
      ]
     },
     "execution_count": 36,
     "metadata": {},
     "output_type": "execute_result"
    }
   ],
   "source": [
    "[s.function.subs(s.variables[0], j)\n",
    "... for j in range(s.limits[0][1], s.limits[0][2] + 1)]"
   ]
  },
  {
   "cell_type": "code",
   "execution_count": 37,
   "metadata": {},
   "outputs": [
    {
     "data": {
      "text/plain": [
       "183"
      ]
     },
     "execution_count": 37,
     "metadata": {},
     "output_type": "execute_result"
    }
   ],
   "source": [
    "test = [12, 10, 20, 10, 22, 21, 33, 12, 32, 11]\n",
    "np.sum(np.array(test))"
   ]
  },
  {
   "cell_type": "code",
   "execution_count": 38,
   "metadata": {},
   "outputs": [
    {
     "data": {
      "text/latex": [
       "$$\\left. \\sum_{i=0}^{9} x_{i} \\right|_{\\substack{ x_{0}=12\\\\ x_{1}=10\\\\ x_{2}=20\\\\ x_{3}=10\\\\ x_{4}=22\\\\ x_{5}=21\\\\ x_{6}=33\\\\ x_{7}=12\\\\ x_{8}=32\\\\ x_{9}=11 }}$$"
      ],
      "text/plain": [
       "⎛  9       ⎞│                                                                 \n",
       "⎜ ___      ⎟│                                                                 \n",
       "⎜ ╲        ⎟│                                                                 \n",
       "⎜  ╲   x[i]⎟│                                                                 \n",
       "⎜  ╱       ⎟│                                                                 \n",
       "⎜ ╱        ⎟│                                                                 \n",
       "⎜ ‾‾‾      ⎟│                                                                 \n",
       "⎝i = 0     ⎠│x[0]=12, x[1]=10, x[2]=20, x[3]=10, x[4]=22, x[5]=21, x[6]=33, x[\n",
       "\n",
       "                       \n",
       "                       \n",
       "                       \n",
       "                       \n",
       "                       \n",
       "                       \n",
       "                       \n",
       "7]=12, x[8]=32, x[9]=11"
      ]
     },
     "execution_count": 38,
     "metadata": {},
     "output_type": "execute_result"
    }
   ],
   "source": [
    "sp.Subs(s, [s.function.subs(s.variables[0], j)\n",
    "            for j in range(s.limits[0][1], s.limits[0][2] + 1)], test)"
   ]
  },
  {
   "cell_type": "code",
   "execution_count": 39,
   "metadata": {
    "collapsed": true
   },
   "outputs": [],
   "source": [
    "num_vars = 3"
   ]
  },
  {
   "cell_type": "code",
   "execution_count": 40,
   "metadata": {},
   "outputs": [
    {
     "data": {
      "text/latex": [
       "$$183$$"
      ],
      "text/plain": [
       "183"
      ]
     },
     "execution_count": 40,
     "metadata": {},
     "output_type": "execute_result"
    }
   ],
   "source": [
    "sp.Subs(s, [s.function.subs(s.variables[0], j)\n",
    "            for j in range(s.limits[0][1], s.limits[0][2] + 1)], test).doit()"
   ]
  },
  {
   "cell_type": "markdown",
   "metadata": {},
   "source": [
    "Define function for finding the expression of a sum:"
   ]
  },
  {
   "cell_type": "code",
   "execution_count": 41,
   "metadata": {
    "collapsed": true
   },
   "outputs": [],
   "source": [
    "find_sum = lambda x: sp.Subs(s, [s.function.subs(s.variables[0], j)\n",
    "                          for j in range(s.limits[0][1], s.limits[0][2] + 1)], x).doit()"
   ]
  },
  {
   "cell_type": "markdown",
   "metadata": {},
   "source": [
    "Find expressions of log-likelihood, gradient and hessians and substitute values of i and ni: (The outer find_sum( ) is for summation expression of list comprehension result on f_expr.subs( ) )"
   ]
  },
  {
   "cell_type": "code",
   "execution_count": 42,
   "metadata": {},
   "outputs": [
    {
     "data": {
      "text/latex": [
       "$$162 \\log{\\left (\\alpha e^{- \\mu_{1}} + \\left(- \\alpha + 1\\right) e^{- \\mu_{2}} \\right )} + 267 \\log{\\left (\\alpha \\mu_{1} e^{- \\mu_{1}} + \\mu_{2} \\left(- \\alpha + 1\\right) e^{- \\mu_{2}} \\right )} + 271 \\log{\\left (\\frac{\\alpha \\mu_{1}^{2}}{2} e^{- \\mu_{1}} + \\frac{\\mu_{2}^{2}}{2} \\left(- \\alpha + 1\\right) e^{- \\mu_{2}} \\right )} + 185 \\log{\\left (\\frac{\\alpha \\mu_{1}^{3}}{6} e^{- \\mu_{1}} + \\frac{\\mu_{2}^{3}}{6} \\left(- \\alpha + 1\\right) e^{- \\mu_{2}} \\right )} + 111 \\log{\\left (\\frac{\\alpha \\mu_{1}^{4}}{24} e^{- \\mu_{1}} + \\frac{\\mu_{2}^{4}}{24} \\left(- \\alpha + 1\\right) e^{- \\mu_{2}} \\right )} + 61 \\log{\\left (\\frac{\\alpha \\mu_{1}^{5}}{120} e^{- \\mu_{1}} + \\frac{\\mu_{2}^{5}}{120} \\left(- \\alpha + 1\\right) e^{- \\mu_{2}} \\right )} + 27 \\log{\\left (\\frac{\\alpha \\mu_{1}^{6}}{720} e^{- \\mu_{1}} + \\frac{\\mu_{2}^{6}}{720} \\left(- \\alpha + 1\\right) e^{- \\mu_{2}} \\right )} + 8 \\log{\\left (\\frac{\\alpha \\mu_{1}^{7}}{5040} e^{- \\mu_{1}} + \\frac{\\mu_{2}^{7}}{5040} \\left(- \\alpha + 1\\right) e^{- \\mu_{2}} \\right )} + 3 \\log{\\left (\\frac{\\alpha \\mu_{1}^{8}}{40320} e^{- \\mu_{1}} + \\frac{\\mu_{2}^{8}}{40320} \\left(- \\alpha + 1\\right) e^{- \\mu_{2}} \\right )} + \\log{\\left (\\frac{\\alpha \\mu_{1}^{9}}{362880} e^{- \\mu_{1}} + \\frac{\\mu_{2}^{9}}{362880} \\left(- \\alpha + 1\\right) e^{- \\mu_{2}} \\right )}$$"
      ],
      "text/plain": [
       "                                                                              \n",
       "       ⎛   -μ₁             -μ₂⎞          ⎛      -μ₁                -μ₂⎞       \n",
       "162⋅log⎝α⋅ℯ    + (-α + 1)⋅ℯ   ⎠ + 267⋅log⎝α⋅μ₁⋅ℯ    + μ₂⋅(-α + 1)⋅ℯ   ⎠ + 271⋅\n",
       "                                                                              \n",
       "\n",
       "   ⎛    2  -μ₁     2           -μ₂⎞          ⎛    3  -μ₁     3           -μ₂⎞ \n",
       "   ⎜α⋅μ₁ ⋅ℯ      μ₂ ⋅(-α + 1)⋅ℯ   ⎟          ⎜α⋅μ₁ ⋅ℯ      μ₂ ⋅(-α + 1)⋅ℯ   ⎟ \n",
       "log⎜────────── + ─────────────────⎟ + 185⋅log⎜────────── + ─────────────────⎟ \n",
       "   ⎝    2                2        ⎠          ⎝    6                6        ⎠ \n",
       "\n",
       "         ⎛    4  -μ₁     4           -μ₂⎞         ⎛    5  -μ₁     5           \n",
       "         ⎜α⋅μ₁ ⋅ℯ      μ₂ ⋅(-α + 1)⋅ℯ   ⎟         ⎜α⋅μ₁ ⋅ℯ      μ₂ ⋅(-α + 1)⋅ℯ\n",
       "+ 111⋅log⎜────────── + ─────────────────⎟ + 61⋅log⎜────────── + ──────────────\n",
       "         ⎝    24               24       ⎠         ⎝   120              120    \n",
       "\n",
       "-μ₂⎞         ⎛    6  -μ₁     6           -μ₂⎞        ⎛    7  -μ₁     7        \n",
       "   ⎟         ⎜α⋅μ₁ ⋅ℯ      μ₂ ⋅(-α + 1)⋅ℯ   ⎟        ⎜α⋅μ₁ ⋅ℯ      μ₂ ⋅(-α + 1\n",
       "───⎟ + 27⋅log⎜────────── + ─────────────────⎟ + 8⋅log⎜────────── + ───────────\n",
       "   ⎠         ⎝   720              720       ⎠        ⎝   5040             5040\n",
       "\n",
       "   -μ₂⎞        ⎛    8  -μ₁     8           -μ₂⎞      ⎛    9  -μ₁     9        \n",
       ")⋅ℯ   ⎟        ⎜α⋅μ₁ ⋅ℯ      μ₂ ⋅(-α + 1)⋅ℯ   ⎟      ⎜α⋅μ₁ ⋅ℯ      μ₂ ⋅(-α + 1\n",
       "──────⎟ + 3⋅log⎜────────── + ─────────────────⎟ + log⎜────────── + ───────────\n",
       "      ⎠        ⎝  40320            40320      ⎠      ⎝  362880           36288\n",
       "\n",
       "   -μ₂⎞\n",
       ")⋅ℯ   ⎟\n",
       "──────⎟\n",
       "0     ⎠"
      ]
     },
     "execution_count": 42,
     "metadata": {},
     "output_type": "execute_result"
    }
   ],
   "source": [
    "loglhood_expr = find_sum([f_expr.subs([(ni,freq[j]),(i,deaths[j])]) for j in range (10)] )\n",
    "loglhood_expr"
   ]
  },
  {
   "cell_type": "markdown",
   "metadata": {},
   "source": [
    "Substitute values of i and ni. For gradient (hessian) each entry in the vector (matrix) is a sum. For each entry, each summand has different value of i and ni. Hence the double loop in list comprehension."
   ]
  },
  {
   "cell_type": "code",
   "execution_count": 43,
   "metadata": {
    "collapsed": true
   },
   "outputs": [],
   "source": [
    "grad_expr = [find_sum([gradf_expr[k].subs([(ni,freq[j]),(i,deaths[j])])\n",
    "                for j in range (10)])\n",
    "             for k in range(num_vars)]"
   ]
  },
  {
   "cell_type": "code",
   "execution_count": 44,
   "metadata": {
    "collapsed": true
   },
   "outputs": [],
   "source": [
    "hessian_expr = [find_sum([hessianf_expr[k].subs([(ni,freq[j]),(i,deaths[j])])\n",
    "                   for j in range (10)])\n",
    "                for k in range(num_vars**2)]"
   ]
  },
  {
   "cell_type": "markdown",
   "metadata": {},
   "source": [
    "Convert the sympy expressions for log-likelihood to numpy functions:"
   ]
  },
  {
   "cell_type": "code",
   "execution_count": 45,
   "metadata": {
    "collapsed": true
   },
   "outputs": [],
   "source": [
    "loglhood = sp.lambdify([alpha, mu1, mu2], loglhood_expr,\"numpy\")\n",
    "?loglhood"
   ]
  },
  {
   "cell_type": "code",
   "execution_count": 46,
   "metadata": {
    "collapsed": true
   },
   "outputs": [],
   "source": [
    "grad = sp.lambdify([alpha, mu1, mu2], grad_expr,\"numpy\")"
   ]
  },
  {
   "cell_type": "code",
   "execution_count": 47,
   "metadata": {
    "collapsed": true
   },
   "outputs": [],
   "source": [
    "hessian = sp.lambdify([alpha, mu1, mu2], hessian_expr,\"numpy\")"
   ]
  },
  {
   "cell_type": "markdown",
   "metadata": {},
   "source": [
    "Define function to check if the negative of Hessian is positive definite:"
   ]
  },
  {
   "cell_type": "code",
   "execution_count": 48,
   "metadata": {
    "collapsed": true
   },
   "outputs": [],
   "source": [
    "def is_pos_def_cholesky(A):\n",
    "    #return np.all(np.linalg.eigvals(A) > 0)\n",
    "    if np.array_equal(A, A.T):\n",
    "        try:\n",
    "            np.linalg.cholesky(A)\n",
    "            return True\n",
    "        except np.linalg.LinAlgError:\n",
    "            return False\n",
    "    else:\n",
    "        return False"
   ]
  },
  {
   "cell_type": "code",
   "execution_count": 49,
   "metadata": {
    "collapsed": true
   },
   "outputs": [],
   "source": [
    "def is_pos_def(A):\n",
    "    return np.all(np.linalg.eigvals(A) > 0)"
   ]
  },
  {
   "cell_type": "markdown",
   "metadata": {},
   "source": [
    "Define the Newton's update method:"
   ]
  },
  {
   "cell_type": "markdown",
   "metadata": {},
   "source": [
    "#### Some Comments:\n",
    "\n",
    "* By definition, the condition number of a matrix is the product of norms of matrix and its inverse. It is equal to the ratio of largest and smallest eigen value. Used here for checking hessian singularity before taking inverse: <br>\n",
    "np.linalg.cond(neg_hessian_val) < 1/sys.float_info.epsilon <br>\n",
    "https://stackoverflow.com/questions/13249108/efficient-pythonic-check-for-singular-matrix\n",
    "\n",
    "\n",
    "* If negative hessian is not a positive definite matrix, add abs(minimum eigen value + $\\epsilon$) \\* Identity matrix. <br>\n",
    "min_eigval = np.min(np.linalg.eigvals(neg_hessian_val)) <br>\n",
    "E = (abs(min_eigval)+0.12)\\*np.eye(3) <br>\n",
    "neg_hessian_val = neg_hessian_val + E <br>\n",
    "http://www.math.mtu.edu/~msgocken/ma5630spring2003/lectures/global1/global1/node4.html <br>\n",
    "Also discussed here: Hessian modification technique such as \"adding a multiple of the identity\": <br>\n",
    "https://math.stackexchange.com/questions/1130002/newton-optimization-algorithm-with-non-positive-definite-hessian\n",
    "\n",
    "* Check conditions for alpha and mu: <br>\n",
    "condition = alpha1 >= 1 or alpha1 <= 0 or mu11 <= 0 or mu21 <=0\n",
    "\n",
    "* Check if loglikelihood is NaN and if so set it to Inf <br>\n",
    "if np.isnan(newlik):\n",
    "    newlik = -np.inf"
   ]
  },
  {
   "cell_type": "code",
   "execution_count": 50,
   "metadata": {
    "collapsed": true
   },
   "outputs": [],
   "source": [
    "import sys\n",
    "\n",
    "def newton_update3(x0,rate=1.0):\n",
    "    \"\"\"Generates next step based on Newton's Method.\"\"\"\n",
    "    alpha0,mu10,mu20 = x0\n",
    "    grad_val = np.array(grad(alpha0, mu10, mu20))[:,np.newaxis]\n",
    "    \n",
    "    if np.any(np.isnan(hessian(alpha0, mu10, mu20))):\n",
    "                raise ValueError('Hessian has nan values.')\n",
    "    else:\n",
    "        neg_hessian_val = -np.array(hessian(alpha0, mu10, mu20)).reshape(3,3)\n",
    "    \n",
    "    if np.linalg.cond(neg_hessian_val) < 1/sys.float_info.epsilon:\n",
    "    \n",
    "        if is_pos_def_cholesky(neg_hessian_val):\n",
    "            min_eigval = np.min(np.linalg.eigvals(neg_hessian_val))\n",
    "            E = (abs(min_eigval)+0.12)*np.eye(3)\n",
    "            neg_hessian_val = neg_hessian_val + E\n",
    "            \n",
    "        hessinv = np.linalg.inv(neg_hessian_val)\n",
    "        prod = np.matmul(hessinv,grad_val)\n",
    "            \n",
    "        x1 = x0[:,np.newaxis] + rate*prod\n",
    "        alpha1,mu11,mu21 = x1\n",
    "        newlik = loglhood(alpha1,mu11,mu21)\n",
    "        if(np.isnan(newlik)):\n",
    "                newlik = -np.inf\n",
    "\n",
    "        condition = True\n",
    "        \n",
    "        while newlik < loglhood(alpha0,mu10,mu20) or condition:\n",
    "            rate = rate/2.0\n",
    "            x1 = x0[:,np.newaxis] + rate*prod\n",
    "            alpha1,mu11,mu21 = x1\n",
    "            newlik = loglhood(alpha1,mu11,mu21)\n",
    "            if np.isnan(newlik):\n",
    "                newlik = -np.inf\n",
    "            #print(x1,y1)\n",
    "            condition = alpha1 >= 1 or alpha1 <= 0 or mu11 <= 0 or mu21 <=0\n",
    "        return x1.flatten()\n",
    "    else:\n",
    "        raise ValueError('Hessian is singular.')\n",
    "    "
   ]
  },
  {
   "cell_type": "code",
   "execution_count": 58,
   "metadata": {},
   "outputs": [
    {
     "name": "stdout",
     "output_type": "stream",
     "text": [
      "Solution converged in 37 iterations. Total time taken is 0.2592s.\n",
      "Result:\n",
      "alpha = 0.3599, mu1 = 1.256, mu2 = 2.663\n"
     ]
    }
   ],
   "source": [
    "import time\n",
    "start_time = time.time()\n",
    "\n",
    "x0 = np.array([0.3,1.0,2.5])\n",
    "condition = True\n",
    "loops = 1\n",
    "max_iter = 200\n",
    "tolerance = 0.000001\n",
    "valNewton = [x0]\n",
    "\n",
    "while condition and loops<max_iter: \n",
    "    x1 = newton_update3(x0,rate=1.0)\n",
    "    loops += 1\n",
    "    condition = np.sum(np.abs(x0-x1)) >= tolerance\n",
    "    x0 = x1\n",
    "    valNewton.append(x0)\n",
    "\n",
    "end_time = time.time()\n",
    "\n",
    "if loops == max_iter:\n",
    "    print('Solution failed to converge. Try increasing rate or max iterations!')\n",
    "else:\n",
    "    print(f'Solution converged in {loops} iterations. Total time taken is {end_time-start_time:.4}s.')\n",
    "\n",
    "print('Result:')\n",
    "print(f'alpha = {x0[0]:.4}, mu1 = {x0[1]:.4}, mu2 = {x0[2]:.4}')"
   ]
  },
  {
   "cell_type": "markdown",
   "metadata": {},
   "source": [
    "Result from using is_pos_def() instead of is_pos_def_cholesky():\n",
    "\n",
    "Solution converged in 43 iterations. Total time taken is 0.3055s.\n",
    "\n",
    "Result:\n",
    "alpha = 0.3599, mu1 = 1.2561, mu2 = 2.6634"
   ]
  },
  {
   "cell_type": "markdown",
   "metadata": {},
   "source": [
    "##### Observe convergence in 3D plot:"
   ]
  },
  {
   "cell_type": "code",
   "execution_count": 59,
   "metadata": {
    "collapsed": true
   },
   "outputs": [],
   "source": [
    "%matplotlib inline\n",
    "import matplotlib.pyplot as plt\n",
    "plt.style.use('seaborn-whitegrid')"
   ]
  },
  {
   "cell_type": "code",
   "execution_count": 60,
   "metadata": {},
   "outputs": [
    {
     "data": {
      "image/png": "[encoded data removed]",
      "text/plain": [
       "<matplotlib.figure.Figure at 0x11d975a90>"
      ]
     },
     "metadata": {},
     "output_type": "display_data"
    }
   ],
   "source": [
    "import matplotlib as mpl\n",
    "from mpl_toolkits.mplot3d import Axes3D\n",
    "mpl.rcParams['legend.fontsize'] = 15\n",
    "\n",
    "fig = plt.figure(figsize=(8,8))\n",
    "\n",
    "ax = fig.gca(projection='3d')\n",
    "\n",
    "Alpha = [tup[0] for tup in val]\n",
    "Mu1 = [tup[1] for tup in val]\n",
    "Mu2 = [tup[2] for tup in val]\n",
    "\n",
    "AlphaN = [tup[0] for tup in valNewton]\n",
    "Mu1N = [tup[1] for tup in valNewton]\n",
    "Mu2N = [tup[2] for tup in valNewton]\n",
    "\n",
    "ax.plot(AlphaN, Mu1N, Mu2N, '*-', label=\"Newton's Method\")\n",
    "ax.plot(Alpha, Mu1, Mu2, '-',label='Gradient Ascent')\n",
    "ax.legend()\n",
    "\n",
    "ax.set_xlabel('alpha', fontsize=15)\n",
    "ax.set_ylabel('mu1', fontsize=15)\n",
    "ax.set_zlabel('mu2', fontsize=15, rotation = 90)\n",
    "\n",
    "#ax.set_xlim3d(0,1)\n",
    "\n",
    "plt.show()"
   ]
  },
  {
   "cell_type": "markdown",
   "metadata": {},
   "source": [
    "##### Check if the mixture model is a good fit:"
   ]
  },
  {
   "cell_type": "code",
   "execution_count": 61,
   "metadata": {},
   "outputs": [
    {
     "name": "stdout",
     "output_type": "stream",
     "text": [
      "0.9997\n"
     ]
    }
   ],
   "source": [
    "i, ni = deaths, freq\n",
    "i_fac = smsc.factorial(i)\n",
    "alpha0, mu10, mu20 = [0.35987258442400516, 1.2560722507101618, 2.6633886707631791]\n",
    "pois_mle = (alpha0*np.exp(-mu10)*mu10**i+(1-alpha0)*np.exp(-mu20)*mu20**i)/i_fac\n",
    "print(f'{np.sum(pois_mle):.4}')"
   ]
  },
  {
   "cell_type": "code",
   "execution_count": 63,
   "metadata": {},
   "outputs": [
    {
     "data": {
      "image/png": "[encoded data removed]",
      "text/plain": [
       "<matplotlib.figure.Figure at 0x11d975320>"
      ]
     },
     "metadata": {},
     "output_type": "display_data"
    }
   ],
   "source": [
    "plt.plot(i, pois_mle,'x--', color='black',label='Mixture of Poissons')\n",
    "plt.plot(np.arange(freq.size), freq/np.sum(freq), 'o', color='black',label='Original data')\n",
    "plt.legend()\n",
    "plt.xlabel(\"Number of Deaths\")\n",
    "plt.ylabel(\"Proportion\");"
   ]
  },
  {
   "cell_type": "markdown",
   "metadata": {
    "collapsed": true
   },
   "source": []
  }
 ],
 "metadata": {
  "kernelspec": {
   "display_name": "Python 3",
   "language": "python",
   "name": "python3"
  },
  "language_info": {
   "codemirror_mode": {
    "name": "ipython",
    "version": 3
   },
   "file_extension": ".py",
   "mimetype": "text/x-python",
   "name": "python",
   "nbconvert_exporter": "python",
   "pygments_lexer": "ipython3",
   "version": "3.6.1"
  }
 },
 "nbformat": 4,
 "nbformat_minor": 1
}
